{
 "cells": [
  {
   "cell_type": "code",
   "execution_count": 1,
   "metadata": {},
   "outputs": [],
   "source": [
    "from newsapi import NewsApiClient\n",
    "import pandas as pd"
   ]
  },
  {
   "cell_type": "code",
   "execution_count": 2,
   "metadata": {},
   "outputs": [],
   "source": [
    "API_KEY = '94813f16596c4a428efdcae000a08756'"
   ]
  },
  {
   "cell_type": "code",
   "execution_count": 3,
   "metadata": {},
   "outputs": [],
   "source": [
    "newsapi = NewsApiClient(api_key=API_KEY)"
   ]
  },
  {
   "cell_type": "code",
   "execution_count": 58,
   "metadata": {},
   "outputs": [],
   "source": [
    "news_query = newsapi.get_top_headlines(sources='al-jazeera-english, google-news-in, the-hindu, fortune')"
   ]
  },
  {
   "cell_type": "code",
   "execution_count": 59,
   "metadata": {},
   "outputs": [
    {
     "name": "stdout",
     "output_type": "stream",
     "text": [
      "Over 50,000 PPE kits sent by China to India unsafe, unusable: Report\n",
      "Pizza delivery boy tests Covid-19 positive in Delhi; 72 families told to quarantine\n",
      "WHO welcomes joint efforts with India to fight COVID-19\n",
      "Coronavirus: Police, medical team attacked in Bihar\n",
      "Bangladesh rescues hundreds of starving Rohingya adrift at sea\n",
      "Coronavirus India lockdown Day 23 updates | Positive cases cross 12,000, death toll at 422\n",
      "Mumbai: 11 arrested in connection with crowd of migrants in Bandra\n",
      "South Korea's governing party wins election by a landslide\n",
      "‘Maybe once in 1000 years’: ICMR on Covid-19 transmission from bats to humans\n",
      "Coronavirus Pandemic LIVE Updates: Deaths Reported in Agra, Rajasthan & Karnataka; First Batch of Serolog...\n",
      "170 hotspot districts, 29 in region\n",
      "Trump says U.S. likely 'passed the peak' of coronavirus cases\n",
      "Major metros in hotspots list, Tamil Nadu tops with most\n",
      "Data | Kerala flattens the coronavirus curve but must remain vigilant as 'import' cases still dominate\n",
      "Stress test: On revised lockdown guidelines\n",
      "Disastrous decision: On Trump halting funds to WHO\n",
      "HC strikes down GO on English medium in Andhra Pradesh schools\n",
      "Coronavirus | Students need not pay college fees till lockdown is lifted, says AICTE\n",
      "Coronavirus | 170 districts identified as hotspots, says Health Ministry\n",
      "What US funding cut means for WHO's fight against coronavirus\n"
     ]
    }
   ],
   "source": [
    "df = pd.DataFrame(news_query)\n",
    "for i in df['articles']:\n",
    "    print(i['title'])"
   ]
  },
  {
   "cell_type": "code",
   "execution_count": null,
   "metadata": {},
   "outputs": [],
   "source": []
  }
 ],
 "metadata": {
  "kernelspec": {
   "display_name": "Python 3",
   "language": "python",
   "name": "python3"
  },
  "language_info": {
   "codemirror_mode": {
    "name": "ipython",
    "version": 3
   },
   "file_extension": ".py",
   "mimetype": "text/x-python",
   "name": "python",
   "nbconvert_exporter": "python",
   "pygments_lexer": "ipython3",
   "version": "3.7.2"
  }
 },
 "nbformat": 4,
 "nbformat_minor": 2
}
